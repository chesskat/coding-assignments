{
  "nbformat": 4,
  "nbformat_minor": 0,
  "metadata": {
    "colab": {
      "provenance": []
    },
    "kernelspec": {
      "name": "python3",
      "display_name": "Python 3"
    },
    "language_info": {
      "name": "python"
    }
  },
  "cells": [
    {
      "cell_type": "markdown",
      "source": [
        "## My First Jupyter Notebook!"
      ],
      "metadata": {
        "id": "vOFpQjicyDJQ"
      }
    },
    {
      "cell_type": "markdown",
      "source": [
        "**Introduction:**\n",
        "Jumping into data science has been a wild ride! I'm new to all this, and at times it feels like I'm learning to decode a secret language made of data and codes. I've started playing around with Python, and terms like Pandas, NumPy, and machine learning are becoming part of my daily vocab. Honestly, machine learning seemed like wizardry at first—teaching a computer to predict stuff based on data? Super cool."
      ],
      "metadata": {
        "id": "Psw_7fgPx7nd"
      }
    },
    {
      "cell_type": "markdown",
      "source": [
        "Here's a short list of some data science languages!\n",
        "\n",
        "\n",
        "\n",
        "1. Python\n",
        "2. R\n",
        "3. SQL\n",
        "4. Julia\n",
        "\n"
      ],
      "metadata": {
        "id": "UtMqAqUkzuL9"
      }
    },
    {
      "cell_type": "markdown",
      "source": [
        "And here's a short list of some data science libraries!\n",
        "\n",
        "1.   Pandas\n",
        "2.   NumPy\n",
        "3.   SciPy\n",
        "4.   Matplotlib\n",
        "5.   Scikit-learn\n",
        "\n"
      ],
      "metadata": {
        "id": "lMq3BSO10PsV"
      }
    },
    {
      "cell_type": "markdown",
      "source": [
        "**Table of Data Science tools**\n",
        "\n",
        "| Category                       | Data Science Tools         |\n",
        "|--------------------------------|----------------------------|\n",
        "| Data Management                | MySQL, PostgreSQL          |\n",
        "| Operating System               | Jupyter, VS Studio, R Studio, Spyder |\n",
        "| Data Integration & Transformation | Spark SQL, Kubeflow       |\n",
        "| Data Visualization             | Hue, Kibana, Superset         |\n",
        "| Model Deployment               | Tensorflow.js, OpenShift         |\n",
        "| Model Monitoring & Assessment  | Prometheus, ModelDB        |\n",
        "| Code Asset Management          | Git, GitHub, Gitlab                |\n",
        "| Data Asset Management          | Kylo, Atlas, Egeria |\n"
      ],
      "metadata": {
        "id": "a1A2zhpN02zi"
      }
    },
    {
      "cell_type": "markdown",
      "source": [
        "Evaluating basic arthemetic expressions (like the infamous facebook math problem)\n"
      ],
      "metadata": {
        "id": "sqT4qEH25Lqj"
      }
    },
    {
      "cell_type": "code",
      "source": [
        "6/2*(1+2)\n"
      ],
      "metadata": {
        "colab": {
          "base_uri": "https://localhost:8080/"
        },
        "id": "EBIpTdpW5YBu",
        "outputId": "bd44d7e3-29f9-4814-816b-3c84e84f7bec"
      },
      "execution_count": null,
      "outputs": [
        {
          "output_type": "execute_result",
          "data": {
            "text/plain": [
              "9.0"
            ]
          },
          "metadata": {},
          "execution_count": 4
        }
      ]
    },
    {
      "cell_type": "markdown",
      "source": [
        "You can also magically transform minutes into hours with some coding wizardry!"
      ],
      "metadata": {
        "id": "SRdI3UPn6iK7"
      }
    },
    {
      "cell_type": "code",
      "source": [
        "ChangeThisValue = 1000000\n",
        "minutes = ChangeThisValue\n",
        "hours = minutes / 60\n",
        "print(str(hours) + \" hrs\")\n",
        "\n"
      ],
      "metadata": {
        "colab": {
          "base_uri": "https://localhost:8080/"
        },
        "id": "67nCP0Sv7Ccn",
        "outputId": "91a73a79-2d4e-4b5d-e0c1-68ca38276823"
      },
      "execution_count": 18,
      "outputs": [
        {
          "output_type": "stream",
          "name": "stdout",
          "text": [
            "16666.666666666668 hrs\n"
          ]
        }
      ]
    },
    {
      "cell_type": "markdown",
      "source": [
        "Author's Name: Katarina Jones"
      ],
      "metadata": {
        "id": "o4p7c-H89Kfh"
      }
    }
  ]
}