{
  "nbformat": 4,
  "nbformat_minor": 0,
  "metadata": {
    "colab": {
      "provenance": []
    },
    "kernelspec": {
      "name": "python3",
      "display_name": "Python 3"
    },
    "language_info": {
      "name": "python"
    }
  },
  "cells": [
    {
      "cell_type": "markdown",
      "source": [
        "# DataScienceEcosystem"
      ],
      "metadata": {
        "id": "uSUBanBq2bRv"
      }
    },
    {
      "cell_type": "markdown",
      "source": [
        "**Introduction:**\n",
        "Here's a quick look at the Data Science Tools and Ecosystem, breaking down the must-know tools and platforms that make data science tick."
      ],
      "metadata": {
        "id": "MDm11SyX-f00"
      }
    },
    {
      "cell_type": "markdown",
      "source": [
        "**Objectives:**\n",
        "\n",
        "\n",
        "\n",
        "*   List popular languages for Data Science\n",
        "*   List some commonly used libraries for Data Science\n",
        "*   Table of Data Science Tools\n",
        "\n"
      ],
      "metadata": {
        "id": "DIK3G_WfDD4o"
      }
    },
    {
      "cell_type": "markdown",
      "source": [
        "Some of the popular languages that Data Scientists use are:\n",
        "\n",
        "\n",
        "1.    Python\n",
        "2.    R\n",
        "3.    SQL\n",
        "4.    Julia\n",
        "\n",
        "\n"
      ],
      "metadata": {
        "id": "xdgfZcO8_nPO"
      }
    },
    {
      "cell_type": "markdown",
      "source": [
        "Some of the commonly used libraries used by Data Scientists include:\n",
        "\n",
        "1.   Pandas\n",
        "2.   NumPy\n",
        "3.   SciPy\n",
        "4.   Matplotlib\n",
        "5.   Scikit-learn\n"
      ],
      "metadata": {
        "id": "1O447t6QALUg"
      }
    },
    {
      "cell_type": "markdown",
      "source": [
        "\n",
        "| Data Science Tools |\n",
        "|--------------------|\n",
        "| Jupyter            |\n",
        "| VS Studio          |\n",
        "| R Studio           |\n",
        "\n"
      ],
      "metadata": {
        "id": "P_Z2wmTBBIbA"
      }
    },
    {
      "cell_type": "markdown",
      "source": [
        "### Below are a few examples of evaluating arithmetic expressions in Python\n"
      ],
      "metadata": {
        "id": "TjRz91g9BujA"
      }
    },
    {
      "cell_type": "markdown",
      "source": [
        "This a simple arithmetic expression to mutiply then add integers"
      ],
      "metadata": {
        "id": "I34tX8zkCOjR"
      }
    },
    {
      "cell_type": "code",
      "source": [
        "(3*4)+5"
      ],
      "metadata": {
        "colab": {
          "base_uri": "https://localhost:8080/",
          "height": 0
        },
        "id": "RK6kiDuiCJE7",
        "outputId": "b8243de4-c5d4-4648-a696-0872b38b3efb"
      },
      "execution_count": 1,
      "outputs": [
        {
          "output_type": "execute_result",
          "data": {
            "text/plain": [
              "17"
            ]
          },
          "metadata": {},
          "execution_count": 1
        }
      ]
    },
    {
      "cell_type": "markdown",
      "source": [
        " This will convert 200 minutes to hours by diving by 60"
      ],
      "metadata": {
        "id": "4wyUqYpUCkiU"
      }
    },
    {
      "cell_type": "code",
      "source": [
        "\n",
        "minutes = 200\n",
        "hours = minutes / 60\n",
        "print(str(hours) + \" hrs\")\n",
        "\n"
      ],
      "metadata": {
        "colab": {
          "base_uri": "https://localhost:8080/",
          "height": 0
        },
        "id": "e0m4osX0ClRt",
        "outputId": "0cf7674b-d541-49ee-e6d7-f3d4c92058d1"
      },
      "execution_count": 2,
      "outputs": [
        {
          "output_type": "stream",
          "name": "stdout",
          "text": [
            "3.3333333333333335 hrs\n"
          ]
        }
      ]
    },
    {
      "cell_type": "markdown",
      "source": [
        "## Author\n"
      ],
      "metadata": {
        "id": "UW5ejFvUD-AF"
      }
    },
    {
      "cell_type": "markdown",
      "source": [
        "Katarina Jones\n"
      ],
      "metadata": {
        "id": "DSjYIM19EBMp"
      }
    },
    {
      "cell_type": "code",
      "source": [],
      "metadata": {
        "id": "Dis2NhDFEEE1"
      },
      "execution_count": null,
      "outputs": []
    }
  ]
}